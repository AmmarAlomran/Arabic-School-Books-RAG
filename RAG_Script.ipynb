{
 "cells": [
  {
   "cell_type": "code",
   "execution_count": 1,
   "metadata": {},
   "outputs": [],
   "source": [
    "from langchain_community.document_loaders import PyPDFLoader\n",
    "from langchain.text_splitter import RecursiveCharacterTextSplitter\n",
    "from langchain.vectorstores import FAISS\n",
    "from langchain.chains import RetrievalQA\n",
    "from langchain.chat_models import ChatOpenAI\n",
    "from transformers import AutoTokenizer, AutoModel\n",
    "from langchain.embeddings.base import Embeddings\n",
    "import os\n",
    "import torch\n",
    "import warnings\n",
    "warnings.filterwarnings(\"ignore\", category=DeprecationWarning)"
   ]
  },
  {
   "cell_type": "code",
   "execution_count": 2,
   "metadata": {},
   "outputs": [
    {
     "name": "stdout",
     "output_type": "stream",
     "text": [
      "Finished parsing كتاب التقنية الرقمية 1-1 مسارات أول ثانوي 1445.pdf with LangChain\n"
     ]
    }
   ],
   "source": [
    "# Step 1: Parse PDFs using the provided method\n",
    "def langchain_parse_pdf(directory_path):\n",
    "    results = {}\n",
    "    try:\n",
    "        for filename in os.listdir(directory_path): \n",
    "            if filename.endswith(\".pdf\"):\n",
    "                file_path = os.path.join(directory_path, filename)\n",
    "                pdf_loader = PyPDFLoader(file_path)\n",
    "                documents = pdf_loader.load()\n",
    "                results[filename] = \"\\n\".join([doc.page_content for doc in documents])\n",
    "                print(f\"Finished parsing {filename} with LangChain\")\n",
    "    except Exception as e:\n",
    "        print(f\"An error occurred while parsing PDFs with LangChain: {e}\")\n",
    "    return results\n",
    "\n",
    "directory_path = \"books\"\n",
    "langchain_results = langchain_parse_pdf(directory_path)"
   ]
  },
  {
   "cell_type": "code",
   "execution_count": 3,
   "metadata": {},
   "outputs": [],
   "source": [
    "# Step 2: Use an Arabic embedding model from Hugging Face\n",
    "model_name = \"asafaya/bert-base-arabic\"\n",
    "tokenizer = AutoTokenizer.from_pretrained(model_name)\n",
    "model = AutoModel.from_pretrained(model_name)"
   ]
  },
  {
   "cell_type": "code",
   "execution_count": 4,
   "metadata": {},
   "outputs": [],
   "source": [
    "def embed_texts(texts):\n",
    "    embeddings = []\n",
    "    for text in texts:\n",
    "        inputs = tokenizer(text, return_tensors=\"pt\", truncation=True, padding=True, max_length=512)  \n",
    "        with torch.no_grad():\n",
    "            outputs = model(**inputs)\n",
    "        # Take the mean of the token embeddings to get a single vector per document\n",
    "        embeddings.append(outputs.last_hidden_state.mean(dim=1).squeeze().numpy())\n",
    "    return embeddings"
   ]
  },
  {
   "cell_type": "code",
   "execution_count": 5,
   "metadata": {},
   "outputs": [],
   "source": [
    "# Split the parsed content into smaller chunks for better indexing\n",
    "text_splitter = RecursiveCharacterTextSplitter(chunk_size=500, chunk_overlap=50)\n",
    "documents = [doc for content in langchain_results.values() for doc in text_splitter.split_text(content)]\n",
    "\n",
    "class CustomEmbeddings(Embeddings):\n",
    "    def __init__(self, embed_function):\n",
    "        self.embed_function = embed_function\n",
    "\n",
    "    def embed_documents(self, texts):\n",
    "        return self.embed_function(texts)\n",
    "\n",
    "    def embed_query(self, text):\n",
    "        return self.embed_function([text])[0]\n",
    "\n",
    "# Create an instance of CustomEmbeddings\n",
    "custom_embeddings = CustomEmbeddings(embed_texts)\n",
    "\n",
    "# Create FAISS vector store from embeddings\n",
    "vectorstore = FAISS.from_texts(documents, embedding=custom_embeddings)"
   ]
  },
  {
   "cell_type": "code",
   "execution_count": 6,
   "metadata": {},
   "outputs": [],
   "source": [
    "os.environ[\"OPENAI_API_KEY\"] =\"\""
   ]
  },
  {
   "cell_type": "code",
   "execution_count": 7,
   "metadata": {},
   "outputs": [
    {
     "ename": "",
     "evalue": "",
     "output_type": "error",
     "traceback": [
      "\u001b[1;31mThe Kernel crashed while executing code in the current cell or a previous cell. \n",
      "\u001b[1;31mPlease review the code in the cell(s) to identify a possible cause of the failure. \n",
      "\u001b[1;31mClick <a href='https://aka.ms/vscodeJupyterKernelCrash'>here</a> for more info. \n",
      "\u001b[1;31mView Jupyter <a href='command:jupyter.viewOutput'>log</a> for further details."
     ]
    }
   ],
   "source": [
    "# Step 3: Build the Retrieval-based QA pipeline\n",
    "llm = ChatOpenAI(model_name=\"gpt-3.5-turbo\")\n",
    "qa_chain = RetrievalQA.from_chain_type(\n",
    "    llm=llm,\n",
    "    chain_type=\"stuff\",\n",
    "    retriever=vectorstore.as_retriever(),\n",
    "    return_source_documents=True\n",
    ")"
   ]
  },
  {
   "cell_type": "code",
   "execution_count": 8,
   "metadata": {},
   "outputs": [],
   "source": [
    "# Example query\n",
    "query = \"ما هو النظام الستة عشري؟\"\n",
    "\n",
    "# Use the new invoke method\n",
    "result = qa_chain.invoke({\"query\": query})\n",
    "\n",
    "print(f\"Response: {result['result']}\")\n",
    "print(\"Source Documents:\")\n",
    "for doc in result['source_documents']:\n",
    "    print(doc.page_content[:100] + \"...\")  # Print first 100 characters of each source document"
   ]
  }
 ],
 "metadata": {
  "kernelspec": {
   "display_name": "Python 3",
   "language": "python",
   "name": "python3"
  },
  "language_info": {
   "codemirror_mode": {
    "name": "ipython",
    "version": 3
   },
   "file_extension": ".py",
   "mimetype": "text/x-python",
   "name": "python",
   "nbconvert_exporter": "python",
   "pygments_lexer": "ipython3",
   "version": "3.11.3"
  }
 },
 "nbformat": 4,
 "nbformat_minor": 2
}
